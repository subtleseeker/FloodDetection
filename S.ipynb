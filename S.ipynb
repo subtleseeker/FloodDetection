{
 "cells": [
  {
   "cell_type": "code",
   "execution_count": 1,
   "metadata": {},
   "outputs": [],
   "source": [
    "import numpy as np\n",
    "import warnings\n",
    "warnings.filterwarnings(\"ignore\")\n",
    "import pandas as pd\n",
    "import matplotlib.pyplot as plt"
   ]
  },
  {
   "cell_type": "code",
   "execution_count": 10,
   "metadata": {},
   "outputs": [],
   "source": [
    "file_0427_sigmaVV = np.loadtxt('ascii2/0427/Sigma0_VV_M_0427_db.txt', skiprows=5)"
   ]
  },
  {
   "cell_type": "code",
   "execution_count": 11,
   "metadata": {},
   "outputs": [
    {
     "data": {
      "text/plain": [
       "(3336, 4344)"
      ]
     },
     "execution_count": 11,
     "metadata": {},
     "output_type": "execute_result"
    }
   ],
   "source": [
    "file_0427_sigmaVV.shape"
   ]
  },
  {
   "cell_type": "code",
   "execution_count": 4,
   "metadata": {},
   "outputs": [
    {
     "data": {
      "text/plain": [
       "array([[0., 0., 0., ..., 0., 0., 0.],\n",
       "       [0., 0., 0., ..., 0., 0., 0.],\n",
       "       [0., 0., 0., ..., 0., 0., 0.],\n",
       "       ...,\n",
       "       [0., 0., 0., ..., 0., 0., 0.],\n",
       "       [0., 0., 0., ..., 0., 0., 0.],\n",
       "       [0., 0., 0., ..., 0., 0., 0.]])"
      ]
     },
     "execution_count": 4,
     "metadata": {},
     "output_type": "execute_result"
    }
   ],
   "source": [
    "file_0926_sigmaVV"
   ]
  },
  {
   "cell_type": "code",
   "execution_count": 5,
   "metadata": {},
   "outputs": [],
   "source": [
    "file_0804_b1 = np.loadtxt('ascii2/0804/B1_optical_0804.txt', skiprows=5)\n",
    "file_0804_b2 = np.loadtxt('ascii2/0804/B2_optical_0804.txt', skiprows=5)\n",
    "file_0804_b4 = np.loadtxt('ascii2/0804/B4_optical_0804.txt', skiprows=5)\n",
    "file_0804_ndvi = np.loadtxt('ascii2/0804/NDVI_0804.txt', skiprows=5)\n",
    "file_0804_rswir = np.loadtxt('ascii2/0804/RSWIR_0804.txt', skiprows=5)\n",
    "file_0427_b1 = np.loadtxt('ascii2/0427/B1_S_0427.txt', skiprows=5)\n",
    "file_0427_b2 = np.loadtxt('ascii2/0427/B2_S_0427.txt', skiprows=5)\n",
    "file_0427_b4 = np.loadtxt('ascii2/0427/B4_S_0427.txt', skiprows=5)\n",
    "file_0427_ndvi = np.loadtxt('ascii2/0427/NDVI_0427.txt', skiprows=5)\n",
    "file_0427_rswir = np.loadtxt('ascii2/0427/RSWIR_0427.txt', skiprows=5)\n",
    "file_0804_sigmaVV = np.loadtxt('ascii2/0804/Sigma0_VV_SAR_0804_db.txt', skiprows=5)\n"
   ]
  },
  {
   "cell_type": "code",
   "execution_count": 6,
   "metadata": {},
   "outputs": [
    {
     "data": {
      "text/plain": [
       "(3336, 4344)"
      ]
     },
     "execution_count": 6,
     "metadata": {},
     "output_type": "execute_result"
    }
   ],
   "source": [
    "file_0427_b4.shape"
   ]
  },
  {
   "cell_type": "code",
   "execution_count": 8,
   "metadata": {},
   "outputs": [
    {
     "data": {
      "text/plain": [
       "(3336, 4344)"
      ]
     },
     "execution_count": 8,
     "metadata": {},
     "output_type": "execute_result"
    }
   ],
   "source": [
    "file_0427_rswir.shape"
   ]
  },
  {
   "cell_type": "code",
   "execution_count": 15,
   "metadata": {},
   "outputs": [
    {
     "data": {
      "text/plain": [
       "array([[nan, nan, nan, ..., nan, nan, nan],\n",
       "       [nan, nan, nan, ..., nan, nan, nan],\n",
       "       [nan, nan, nan, ..., nan, nan, nan],\n",
       "       ...,\n",
       "       [nan, nan, nan, ..., nan, nan, nan],\n",
       "       [nan, nan, nan, ..., nan, nan, nan],\n",
       "       [nan, nan, nan, ..., nan, nan, nan]])"
      ]
     },
     "execution_count": 15,
     "metadata": {},
     "output_type": "execute_result"
    }
   ],
   "source": [
    "file_0427_rswir"
   ]
  },
  {
   "cell_type": "code",
   "execution_count": 23,
   "metadata": {},
   "outputs": [],
   "source": [
    "file_0804_b1_new = file_0804_b1[1000:2500, 1000:4000]\n",
    "file_0804_b2_new = file_0804_b2[1000:2500, 1000:4000]\n",
    "file_0804_b4_new = file_0804_b4[1000:2500, 1000:4000]\n",
    "file_0804_ndvi_new = file_0804_ndvi[1000:2500, 1000:4000]\n",
    "file_0804_rswir_new = file_0804_rswir[1000:2500, 1000:4000]\n",
    "file_0804_sigmaVV_new = file_0804_sigmaVV[1000:2500, 1000:4000]\n",
    "file_0427_b1_new = file_0427_b1[1000:2500, 1000:4000]\n",
    "file_0427_b2_new = file_0427_b2[1000:2500, 1000:4000]\n",
    "file_0427_b4_new = file_0427_b4[1000:2500, 1000:4000]\n",
    "file_0427_ndvi_new = file_0427_ndvi[1000:2500, 1000:4000]\n",
    "file_0427_rswir_new = file_0427_rswir[1000:2500, 1000:4000]\n",
    "file_0427_sigmaVV_new = file_0427_sigmaVV[1000:2500, 1000:4000]"
   ]
  },
  {
   "cell_type": "code",
   "execution_count": 25,
   "metadata": {},
   "outputs": [],
   "source": [
    "file_0804_b1_new=file_0804_b1_new.flatten().reshape(4500000,1)\n",
    "file_0804_b2_new=file_0804_b2_new.flatten().reshape(4500000,1)\n",
    "file_0804_b4_new=file_0804_b4_new.flatten().reshape(4500000,1)\n",
    "file_0804_ndvi_new=file_0804_ndvi_new.flatten().reshape(4500000,1)\n",
    "file_0804_rswir_new=file_0804_rswir_new.flatten().reshape(4500000,1)\n",
    "file_0804_sigmaVV_new=file_0804_sigmaVV_new.flatten().reshape(4500000,1)\n",
    "file_0427_b1_new=file_0427_b1_new.flatten().reshape(4500000,1)\n",
    "file_0427_b2_new=file_0427_b2_new.flatten().reshape(4500000,1)\n",
    "file_0427_b4_new=file_0427_b4_new.flatten().reshape(4500000,1)\n",
    "file_0427_ndvi_new=file_0427_ndvi_new.flatten().reshape(4500000,1)\n",
    "file_0427_rswir_new=file_0427_rswir_new.flatten().reshape(4500000,1)\n",
    "file_0427_sigmaVV_new=file_0427_sigmaVV_new.flatten().reshape(4500000,1)"
   ]
  },
  {
   "cell_type": "code",
   "execution_count": 26,
   "metadata": {},
   "outputs": [
    {
     "data": {
      "text/plain": [
       "(4500000, 1)"
      ]
     },
     "execution_count": 26,
     "metadata": {},
     "output_type": "execute_result"
    }
   ],
   "source": [
    "file_0427_b1_new.shape"
   ]
  },
  {
   "cell_type": "code",
   "execution_count": 31,
   "metadata": {},
   "outputs": [],
   "source": [
    "df_0427 = pd.DataFrame(np.hstack((file_0427_b1_new,file_0427_b2_new,file_0427_b4_new,file_0427_ndvi_new,file_0427_rswir_new,\n",
    "                            file_0427_sigmaVV_new)), columns=['B1','B2','B4','NDVI','RSWIR','sigmaVV'])\n",
    "df_0804 = pd.DataFrame(np.hstack((file_0804_b1_new,file_0804_b2_new,file_0804_b4_new,file_0804_ndvi_new,file_0804_rswir_new,\n",
    "                            file_0804_sigmaVV_new)), columns=['B1','B2','B4','NDVI','RSWIR','sigmaVV'])"
   ]
  },
  {
   "cell_type": "code",
   "execution_count": 32,
   "metadata": {},
   "outputs": [
    {
     "data": {
      "text/html": [
       "<div>\n",
       "<style scoped>\n",
       "    .dataframe tbody tr th:only-of-type {\n",
       "        vertical-align: middle;\n",
       "    }\n",
       "\n",
       "    .dataframe tbody tr th {\n",
       "        vertical-align: top;\n",
       "    }\n",
       "\n",
       "    .dataframe thead th {\n",
       "        text-align: right;\n",
       "    }\n",
       "</style>\n",
       "<table border=\"1\" class=\"dataframe\">\n",
       "  <thead>\n",
       "    <tr style=\"text-align: right;\">\n",
       "      <th></th>\n",
       "      <th>B1</th>\n",
       "      <th>B2</th>\n",
       "      <th>B4</th>\n",
       "      <th>NDVI</th>\n",
       "      <th>RSWIR</th>\n",
       "      <th>sigmaVV</th>\n",
       "    </tr>\n",
       "  </thead>\n",
       "  <tbody>\n",
       "    <tr>\n",
       "      <th>0</th>\n",
       "      <td>1716.0</td>\n",
       "      <td>1530.0</td>\n",
       "      <td>1501.0</td>\n",
       "      <td>0.0248</td>\n",
       "      <td>0.2630</td>\n",
       "      <td>-15.0204</td>\n",
       "    </tr>\n",
       "    <tr>\n",
       "      <th>1</th>\n",
       "      <td>1716.0</td>\n",
       "      <td>1530.0</td>\n",
       "      <td>1501.0</td>\n",
       "      <td>0.0248</td>\n",
       "      <td>0.2630</td>\n",
       "      <td>-14.2883</td>\n",
       "    </tr>\n",
       "    <tr>\n",
       "      <th>2</th>\n",
       "      <td>1685.0</td>\n",
       "      <td>1525.0</td>\n",
       "      <td>1517.0</td>\n",
       "      <td>0.0153</td>\n",
       "      <td>0.2606</td>\n",
       "      <td>-13.6305</td>\n",
       "    </tr>\n",
       "    <tr>\n",
       "      <th>3</th>\n",
       "      <td>1685.0</td>\n",
       "      <td>1525.0</td>\n",
       "      <td>1517.0</td>\n",
       "      <td>0.0153</td>\n",
       "      <td>0.2606</td>\n",
       "      <td>-13.2566</td>\n",
       "    </tr>\n",
       "    <tr>\n",
       "      <th>4</th>\n",
       "      <td>1685.0</td>\n",
       "      <td>1525.0</td>\n",
       "      <td>1517.0</td>\n",
       "      <td>0.0153</td>\n",
       "      <td>0.2606</td>\n",
       "      <td>-12.9416</td>\n",
       "    </tr>\n",
       "  </tbody>\n",
       "</table>\n",
       "</div>"
      ],
      "text/plain": [
       "       B1      B2      B4    NDVI   RSWIR  sigmaVV\n",
       "0  1716.0  1530.0  1501.0  0.0248  0.2630 -15.0204\n",
       "1  1716.0  1530.0  1501.0  0.0248  0.2630 -14.2883\n",
       "2  1685.0  1525.0  1517.0  0.0153  0.2606 -13.6305\n",
       "3  1685.0  1525.0  1517.0  0.0153  0.2606 -13.2566\n",
       "4  1685.0  1525.0  1517.0  0.0153  0.2606 -12.9416"
      ]
     },
     "execution_count": 32,
     "metadata": {},
     "output_type": "execute_result"
    }
   ],
   "source": [
    "df_0427.head(5)"
   ]
  },
  {
   "cell_type": "code",
   "execution_count": 33,
   "metadata": {},
   "outputs": [
    {
     "name": "stdout",
     "output_type": "stream",
     "text": [
      "(4500000, 6)\n",
      "(4500000, 6)\n"
     ]
    }
   ],
   "source": [
    "print(df_0804.shape)\n",
    "print(df_0427.shape)"
   ]
  },
  {
   "cell_type": "code",
   "execution_count": 35,
   "metadata": {},
   "outputs": [
    {
     "name": "stdout",
     "output_type": "stream",
     "text": [
      "No.of water pixels  589728\n",
      "No.of land pixels  13901856\n",
      "No.of water pixels  1116944\n",
      "No.of land pixels  13374640\n"
     ]
    }
   ],
   "source": [
    "print(\"No.of water pixels \", len(file_0804_sigmaVV[file_0804_sigmaVV<=-17]))\n",
    "print(\"No.of land pixels \", len(file_0804_sigmaVV[file_0804_sigmaVV>-17]))\n",
    "print(\"No.of water pixels \", len(file_0427_sigmaVV[file_0427_sigmaVV<=-17]))\n",
    "print(\"No.of land pixels \", len(file_0427_sigmaVV[file_0427_sigmaVV>-17]))"
   ]
  },
  {
   "cell_type": "code",
   "execution_count": 15,
   "metadata": {},
   "outputs": [],
   "source": [
    "dff = pd.read_excel('data_0427_2.xlsx')"
   ]
  },
  {
   "cell_type": "code",
   "execution_count": 16,
   "metadata": {},
   "outputs": [
    {
     "data": {
      "text/plain": [
       "(1048575, 7)"
      ]
     },
     "execution_count": 16,
     "metadata": {},
     "output_type": "execute_result"
    }
   ],
   "source": [
    "dff.shape"
   ]
  },
  {
   "cell_type": "code",
   "execution_count": 17,
   "metadata": {},
   "outputs": [
    {
     "data": {
      "text/plain": [
       "(4600000, 7)"
      ]
     },
     "execution_count": 17,
     "metadata": {},
     "output_type": "execute_result"
    }
   ],
   "source": [
    "df_0427.shape"
   ]
  },
  {
   "cell_type": "code",
   "execution_count": 36,
   "metadata": {},
   "outputs": [],
   "source": [
    "df_0427.to_csv('0427_2')"
   ]
  },
  {
   "cell_type": "code",
   "execution_count": 19,
   "metadata": {},
   "outputs": [],
   "source": [
    "dff2 = pd.read_csv('0427')"
   ]
  },
  {
   "cell_type": "code",
   "execution_count": 20,
   "metadata": {},
   "outputs": [
    {
     "data": {
      "text/plain": [
       "(4600000, 8)"
      ]
     },
     "execution_count": 20,
     "metadata": {},
     "output_type": "execute_result"
    }
   ],
   "source": [
    "dff2.shape"
   ]
  },
  {
   "cell_type": "code",
   "execution_count": 37,
   "metadata": {},
   "outputs": [],
   "source": [
    "df_0804.to_csv('0804')"
   ]
  },
  {
   "cell_type": "code",
   "execution_count": 23,
   "metadata": {},
   "outputs": [],
   "source": [
    "dff2 = pd.read_csv('0804')"
   ]
  },
  {
   "cell_type": "code",
   "execution_count": 24,
   "metadata": {},
   "outputs": [
    {
     "data": {
      "text/plain": [
       "(4600000, 8)"
      ]
     },
     "execution_count": 24,
     "metadata": {},
     "output_type": "execute_result"
    }
   ],
   "source": [
    "dff2.shape"
   ]
  },
  {
   "cell_type": "code",
   "execution_count": null,
   "metadata": {},
   "outputs": [],
   "source": []
  }
 ],
 "metadata": {
  "kernelspec": {
   "display_name": "Python 3",
   "language": "python",
   "name": "python3"
  },
  "language_info": {
   "codemirror_mode": {
    "name": "ipython",
    "version": 3
   },
   "file_extension": ".py",
   "mimetype": "text/x-python",
   "name": "python",
   "nbconvert_exporter": "python",
   "pygments_lexer": "ipython3",
   "version": "3.6.8"
  }
 },
 "nbformat": 4,
 "nbformat_minor": 2
}
